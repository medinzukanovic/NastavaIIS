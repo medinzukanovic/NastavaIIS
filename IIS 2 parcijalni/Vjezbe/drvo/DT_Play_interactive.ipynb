{
 "cells": [
  {
   "cell_type": "code",
   "execution_count": 2,
   "metadata": {},
   "outputs": [
    {
     "name": "stdout",
     "output_type": "stream",
     "text": [
      "[0 0 1 1 1 0 1 0 1 1 1 1 1 0]\n"
     ]
    },
    {
     "data": {
      "application/vnd.jupyter.widget-view+json": {
       "model_id": "89445a4fbce845e5ae52a779a5418dcc",
       "version_major": 2,
       "version_minor": 0
      },
      "text/plain": [
       "interactive(children=(Dropdown(description='crit', options=('gini', 'entropy'), value='gini'), Dropdown(descri…"
      ]
     },
     "metadata": {},
     "output_type": "display_data"
    }
   ],
   "source": [
    "from sklearn.tree import DecisionTreeClassifier, export_graphviz\n",
    "from sklearn import tree\n",
    "from IPython.display import SVG\n",
    "from graphviz import Source\n",
    "from IPython.display import display                               \n",
    "from ipywidgets import interactive\n",
    "import pandas as pd\n",
    "\n",
    "# load dataset\n",
    "data = pd.read_csv('Play.csv', sep=\";\")\n",
    "data.columns=[\"Day\", \"Weather\",\"Temperature\",\"Humidity\",\"Wind\",\"Play?\"]\n",
    "data.head()\n",
    "\n",
    "X = data.iloc[:,[1,2,3,4]].values\n",
    "labels = (\"Weather\",\"Temperature\",\"Humidity\",\"Wind\")                    \n",
    "y = data.iloc[:,5].values\n",
    "print(y)\n",
    "\n",
    "def plot_tree(crit, split, depth, min_split, min_leaf=0.2):\n",
    "\n",
    "    estimator = DecisionTreeClassifier(random_state = 0, \n",
    "                                       criterion = crit, \n",
    "                                       splitter = split, \n",
    "                                       max_depth = depth, \n",
    "                                       min_samples_split=min_split, \n",
    "                                       min_samples_leaf=min_leaf)    \n",
    "    estimator.fit(X, y)\n",
    "    \n",
    "    graph = Source(tree.export_graphviz(estimator, \n",
    "                                        out_file=None, \n",
    "                                        feature_names=labels, \n",
    "                                        class_names=['0','1'], \n",
    "                                        filled = True))\n",
    "    display(SVG(graph.pipe(format='svg')))\n",
    "    \n",
    "    \n",
    "    print('score=',estimator.score(X,y) )\n",
    "    \n",
    "    return estimator\n",
    "\n",
    "inter=interactive(plot_tree, \n",
    "                  crit = [\"gini\", \"entropy\"], \n",
    "                  split = [\"best\", \"random\"], \n",
    "                  depth=[1,2,3,4], \n",
    "                  min_split=(0.1,1), \n",
    "                  min_leaf=(0.1,0.5))\n",
    "\n",
    "display(inter)\n",
    "\n"
   ]
  },
  {
   "cell_type": "code",
   "execution_count": null,
   "metadata": {},
   "outputs": [],
   "source": []
  }
 ],
 "metadata": {
  "kernelspec": {
   "display_name": "Python 3",
   "language": "python",
   "name": "python3"
  },
  "language_info": {
   "codemirror_mode": {
    "name": "ipython",
    "version": 3
   },
   "file_extension": ".py",
   "mimetype": "text/x-python",
   "name": "python",
   "nbconvert_exporter": "python",
   "pygments_lexer": "ipython3",
   "version": "3.8.6"
  }
 },
 "nbformat": 4,
 "nbformat_minor": 2
}
