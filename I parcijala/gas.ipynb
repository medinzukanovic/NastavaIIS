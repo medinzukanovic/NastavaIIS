{
 "cells": [
  {
   "cell_type": "code",
   "execution_count": 2,
   "metadata": {},
   "outputs": [
    {
     "output_type": "display_data",
     "data": {
      "text/plain": "                                        2          \n                     d                 d           \n49968⋅f(t) + 0.02104⋅──(f(t)) + 0.081⋅───(f(t)) = 1\n                     dt                 2          \n                                      dt           ",
      "image/png": "[encoded data removed]",
      "text/latex": "$\\displaystyle 49968 f{\\left(t \\right)} + 0.02104 \\frac{d}{d t} f{\\left(t \\right)} + 0.081 \\frac{d^{2}}{d t^{2}} f{\\left(t \\right)} = 1$"
     },
     "metadata": {}
    },
    {
     "output_type": "display_data",
     "data": {
      "text/plain": "                                                                  -0.129876543\nf(t) = (C₁⋅sin(785.422734596454⋅t) + C₂⋅cos(785.422734596454⋅t))⋅ℯ            \n                                                                              \n\n209877⋅t     1  \n         + ─────\n           49968",
      "image/png": "[encoded data removed]",
      "text/latex": "$\\displaystyle f{\\left(t \\right)} = \\left(C_{1} \\sin{\\left(785.422734596454 t \\right)} + C_{2} \\cos{\\left(785.422734596454 t \\right)}\\right) e^{- 0.129876543209877 t} + \\frac{1}{49968}$"
     },
     "metadata": {}
    }
   ],
   "source": [
    "from sympy.interactive import printing\n",
    "printing.init_printing(use_latex=True)      \n",
    "from sympy import *\n",
    "import sympy as sp  \n",
    "import numpy as np   \n",
    "import matplotlib as mpl   \n",
    "\n",
    "t=sp.Symbol('t')\n",
    "y=sp.Symbol('y')\n",
    "b=sp.Symbol('b')\n",
    "k=sp.Symbol('k')\n",
    "M=sp.Symbol('M')\n",
    "m=sp.Symbol('m')\n",
    "f=sp.Function('f')(t)\n",
    "\n",
    "jed=Eq(0.081*f.diff(t,t)+0.02104*f.diff(t)+49968*f,1)\n",
    "rjes=dsolve(jed,f)\n",
    "\n",
    "display(jed)\n",
    "display(rjes)"
   ]
  },
  {
   "cell_type": "code",
   "execution_count": null,
   "metadata": {},
   "outputs": [],
   "source": []
  },
  {
   "cell_type": "raw",
   "metadata": {},
   "source": [
    "from sympy.interactive import printing\r\n",
    "printing.init_printing(use_latex=True)      \r\n",
    "from sympy import *\r\n",
    "import sympy as sp  \r\n",
    "import numpy as np   \r\n",
    "import matplotlib as mpl   \r\n",
    "\r\n",
    "t=sp.Symbol('t')\r\n",
    "y=sp.Symbol('y')\r\n",
    "b=sp.Symbol('b')\r\n",
    "k=sp.Symbol('k')\r\n",
    "M=sp.Symbol('M')\r\n",
    "m=sp.Symbol('m')\r\n",
    "f=sp.Function('f')(t)\r\n",
    "\r\n",
    "jed=Eq(0.081*f.diff(t,t)+0.02104*f.diff(t)+49968*f,1)\r\n",
    "rjes=dsolve(jed,f)\r\n",
    "\r\n",
    "sp.display(jed)\r\n",
    "sp.display(rjes)\r\n",
    "\r\n"
   ]
  }
 ],
 "metadata": {
  "kernelspec": {
   "display_name": "Python 3",
   "name": "python3",
   "language": "python"
  },
  "language_info": {
   "codemirror_mode": {
    "name": "ipython",
    "version": 3
   },
   "file_extension": ".py",
   "mimetype": "text/x-python",
   "name": "python",
   "nbconvert_exporter": "python",
   "pygments_lexer": "ipython3",
   "version": "3.8.2-final"
  },
  "orig_nbformat": 2
 },
 "nbformat": 4,
 "nbformat_minor": 2
}